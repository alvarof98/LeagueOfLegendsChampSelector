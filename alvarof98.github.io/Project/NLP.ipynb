{
 "cells": [
  {
   "cell_type": "code",
   "execution_count": 2,
   "id": "9d2a2143",
   "metadata": {},
   "outputs": [],
   "source": [
    "from riotwatcher import LolWatcher, ApiError\n",
    "import riotwatcher\n",
    "import pandas as pd\n",
    "import numpy as np\n",
    "import requests\n",
    "from bs4 import BeautifulSoup\n",
    "from time import sleep\n",
    "from transformers import AutoModelForSequenceClassification\n",
    "from transformers import TFAutoModelForSequenceClassification\n",
    "from transformers import AutoTokenizer, AutoConfig\n",
    "from scipy.special import softmax\n",
    "import os\n",
    "import shutil"
   ]
  },
  {
   "cell_type": "code",
   "execution_count": 8,
   "id": "e7de1c4c",
   "metadata": {},
   "outputs": [],
   "source": [
    "api_key = 'RGAPI-df101462-9dcb-46e1-81a4-8da803b27924'\n",
    "watcher = LolWatcher(api_key)\n",
    "my_region = 'euw1'"
   ]
  },
  {
   "cell_type": "code",
   "execution_count": 12,
   "id": "8286f401",
   "metadata": {},
   "outputs": [
    {
     "data": {
      "text/plain": [
       "['Ebers',\n",
       " 'alvarof98',\n",
       " 'xn88x',\n",
       " 'Rachell94',\n",
       " 'FRvsALL',\n",
       " 'WhereEaglesDare',\n",
       " 'TFS Senfei',\n",
       " 'lordletters',\n",
       " 'VBLODUS0secse',\n",
       " 'Gamers2 Caps']"
      ]
     },
     "execution_count": 12,
     "metadata": {},
     "output_type": "execute_result"
    }
   ],
   "source": [
    "summoners = watcher.match.by_id(my_region, watcher.match.matchlist_by_puuid(my_region, watcher.summoner.by_name(my_region,'alvarof98')['puuid'])[0])['metadata']['participants']\n",
    "summoners = [watcher.summoner.by_puuid(my_region, i)['name'] for i in summoners]\n",
    "summoners"
   ]
  },
  {
   "cell_type": "code",
   "execution_count": 10,
   "id": "77b1e551",
   "metadata": {},
   "outputs": [
    {
     "data": {
      "text/plain": [
       "{'id': 'P_4EjJGQdqY4-RwuDXli2f0YeI2fRiVLfSrbFWGfdHHd5t0',\n",
       " 'accountId': 'MGX6g7z2rTZ8kvZ1OCD_clpRC6GFCYMnxaOJfpTUxA50DKQ',\n",
       " 'puuid': '-6QqogKKl14ju1MZplivTIaNe9QgEkoR0kaEAfMHlAjPDKMNfUIpv5ihibq0Fx4P5MdYQIaqTLcvQg',\n",
       " 'name': 'alvarof98',\n",
       " 'profileIconId': 1115,\n",
       " 'revisionDate': 1658350556000,\n",
       " 'summonerLevel': 214}"
      ]
     },
     "execution_count": 10,
     "metadata": {},
     "output_type": "execute_result"
    }
   ],
   "source": [
    "watcher.summoner.by_name(my_region, 'alvarof98')"
   ]
  },
  {
   "cell_type": "code",
   "execution_count": 6,
   "id": "cecfaec6",
   "metadata": {},
   "outputs": [
    {
     "data": {
      "text/plain": [
       "['lover lover Bounces back Snowballs Too confident Loses when behind Bad Starts ']"
      ]
     },
     "execution_count": 6,
     "metadata": {},
     "output_type": "execute_result"
    }
   ],
   "source": [
    "textos = []\n",
    "summoners = ['thedatawarlock']\n",
    "for i in summoners:\n",
    "    headers = {\"User-Agent\":\"Mozilla/5.0 (Windows NT 10.0; Win64; x64) AppleWebKit/537.36 (KHTML, like Gecko) Chrome/103.0.0.0 Safari/537.36\"}\n",
    "    reponse = requests.get(f'https://www.leagueofgraphs.com/summoner/euw/{i}', headers = headers)\n",
    "    text = ''\n",
    "    soup = BeautifulSoup(reponse.text, 'html.parser')\n",
    "    for j in soup.find(attrs = {'class':'box tags-box'}).find_all('div'):\n",
    "        if 'brown' in j['class']:\n",
    "            continue\n",
    "        elif 'lover' in j.text:\n",
    "            text+='lover '\n",
    "        else:\n",
    "            text += j.text.replace('\\n','').strip(' ') + ' '\n",
    "    textos.append(text)\n",
    "    sleep(0.5)\n",
    "textos"
   ]
  },
  {
   "cell_type": "code",
   "execution_count": 4,
   "id": "478333e8",
   "metadata": {},
   "outputs": [],
   "source": [
    "# Configuramos el modelo de sentimientos de hugging face\n",
    "\n",
    "if 'cardiffnlp' in os.listdir():\n",
    "    shutil.rmtree('cardiffnlp')\n",
    "MODEL = f\"cardiffnlp/twitter-xlm-roberta-base-sentiment\"\n",
    "\n",
    "tokenizer = AutoTokenizer.from_pretrained(MODEL, use_fast = False)\n",
    "config = AutoConfig.from_pretrained(MODEL)"
   ]
  },
  {
   "cell_type": "code",
   "execution_count": 7,
   "id": "a3909a02",
   "metadata": {},
   "outputs": [
    {
     "name": "stdout",
     "output_type": "stream",
     "text": [
      "thedatawarlock Indice de toxicidad:\n",
      "1) Negative 0.6891\n",
      "2) Neutral 0.26\n",
      "3) Positive 0.0509\n",
      "====================================\n"
     ]
    }
   ],
   "source": [
    "cont = 0\n",
    "for i in textos:\n",
    "    model = AutoModelForSequenceClassification.from_pretrained(MODEL)\n",
    "    model.save_pretrained(MODEL)\n",
    "    encoded_input = tokenizer(i, return_tensors='pt')\n",
    "    output = model(**encoded_input)\n",
    "    scores = output[0][0].detach().numpy()\n",
    "    scores = softmax(scores)\n",
    "    ranking = np.argsort(scores)\n",
    "    ranking = ranking[::-1]\n",
    "    print(f'{summoners[cont]} Indice de toxicidad:')\n",
    "    for j in range(scores.shape[0]):\n",
    "        l = config.id2label[ranking[j]]\n",
    "        s = scores[ranking[j]]\n",
    "        print(f\"{j+1}) {l} {np.round(float(s), 4)}\")\n",
    "    print('====================================')\n",
    "    cont +=1"
   ]
  }
 ],
 "metadata": {
  "kernelspec": {
   "display_name": "Python 3 (ipykernel)",
   "language": "python",
   "name": "python3"
  },
  "language_info": {
   "codemirror_mode": {
    "name": "ipython",
    "version": 3
   },
   "file_extension": ".py",
   "mimetype": "text/x-python",
   "name": "python",
   "nbconvert_exporter": "python",
   "pygments_lexer": "ipython3",
   "version": "3.9.12"
  },
  "vscode": {
   "interpreter": {
    "hash": "0d281db42c31df127427816bc60fc2907c9228cd9dfcc825ec9cbf0749fee5c1"
   }
  }
 },
 "nbformat": 4,
 "nbformat_minor": 5
}
